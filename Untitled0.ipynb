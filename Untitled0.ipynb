{
  "nbformat": 4,
  "nbformat_minor": 0,
  "metadata": {
    "colab": {
      "name": "Untitled0.ipynb",
      "provenance": [],
      "authorship_tag": "ABX9TyPD838TVOxBT4n1KpmrReJY",
      "include_colab_link": true
    },
    "kernelspec": {
      "name": "python3",
      "display_name": "Python 3"
    }
  },
  "cells": [
    {
      "cell_type": "markdown",
      "metadata": {
        "id": "view-in-github",
        "colab_type": "text"
      },
      "source": [
        "<a href=\"https://colab.research.google.com/github/Oviep/data_science/blob/main/Untitled0.ipynb\" target=\"_parent\"><img src=\"https://colab.research.google.com/assets/colab-badge.svg\" alt=\"Open In Colab\"/></a>"
      ]
    },
    {
      "cell_type": "code",
      "metadata": {
        "colab": {
          "base_uri": "https://localhost:8080/",
          "height": 543
        },
        "id": "D6b9TUdX0bDH",
        "outputId": "ce0fdc17-7095-427d-d1fd-8327392dbf9a"
      },
      "source": [
        "import numpy as np\r\n",
        "import pandas as pd\r\n",
        "\r\n",
        "df = pd.read_csv(\"PastHires.csv\")\r\n",
        "df\r\n",
        "df.shape\r\n",
        "df.tail(4)\r\n",
        "df.size\r\n",
        "df.columns\r\n",
        "len(df)\r\n",
        "df['Hired']\r\n",
        "df.index\r\n",
        "df['Hired'][:5]\r\n",
        "df['Hired'][5]\r\n",
        "df[['Years Experience', 'Hired']]\r\n",
        "df.sort_values(['Years Experience'])\r\n",
        "degree_counts = df['Level of Education'].value_counts()\r\n",
        "degree_counts\r\n",
        "degree_counts.plot(kind='bar')\r\n",
        "df[['Hired', 'Previous employers']][:5-10]\r\n",
        "hired_prevemployers = df[['Hired', 'Previous employers']][5:11]\r\n",
        "hired_prevemployers\r\n",
        "hired_prevemployers.plot(kind='bar')\r\n"
      ],
      "execution_count": 41,
      "outputs": [
        {
          "output_type": "execute_result",
          "data": {
            "text/plain": [
              "<matplotlib.axes._subplots.AxesSubplot at 0x7f1f1da5c890>"
            ]
          },
          "metadata": {
            "tags": []
          },
          "execution_count": 41
        },
        {
          "output_type": "display_data",
          "data": {
            "image/png": "[encoded data removed]",
            "text/plain": [
              "<Figure size 432x288 with 1 Axes>"
            ]
          },
          "metadata": {
            "tags": [],
            "needs_background": "light"
          }
        },
        {
          "output_type": "display_data",
          "data": {
            "image/png": "[encoded data removed]",
            "text/plain": [
              "<Figure size 432x288 with 1 Axes>"
            ]
          },
          "metadata": {
            "tags": [],
            "needs_background": "light"
          }
        }
      ]
    },
    {
      "cell_type": "code",
      "metadata": {
        "id": "ODhIRskE0tei"
      },
      "source": [
        "from google.colab import drive\n",
        "drive.mount('/content/drive')"
      ],
      "execution_count": null,
      "outputs": []
    }
  ]
}